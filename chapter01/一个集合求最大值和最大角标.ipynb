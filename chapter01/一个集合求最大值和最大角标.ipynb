{
 "cells": [
  {
   "cell_type": "markdown",
   "metadata": {},
   "source": [
    "算法M(求极大值)：给定n个元素x1, x2, ..., xn，我们将求m和j使得m = xj = max(1<=i<=n)xi，其中j是满足这个关系的最大下标。"
   ]
  },
  {
   "cell_type": "code",
   "execution_count": 1,
   "metadata": {},
   "outputs": [],
   "source": [
    "def max_and_subscript(inputs):\n",
    "    n = len(inputs) # 列表长度,脚标初始化\n",
    "    # j = n - 1 脚标初始位置\n",
    "    m = inputs[n - 1] # 最大值,最后位置\n",
    "    k = n - 2 # 最大值位置减1\n",
    "\n",
    "    while k > 0:\n",
    "        if inputs[k] <= m:\n",
    "            k -= 1\n",
    "        else:\n",
    "            m = inputs[k]\n",
    "            j = k\n",
    "            k -= 1\n",
    "\n",
    "    \"\"\"优化后的方法，更加好用。\n",
    "    while k >= 0:\n",
    "    if inputs[k] > m:\n",
    "        m = inputs[k]\n",
    "        j = k\n",
    "    k -= 1\n",
    "    \"\"\"\n",
    "\n",
    "    return m, j"
   ]
  },
  {
   "cell_type": "code",
   "execution_count": 2,
   "metadata": {},
   "outputs": [
    {
     "name": "stdout",
     "output_type": "stream",
     "text": [
      "[11, 14, 9, 8, 13, 4, 16, 18, 17, 6, 3, 1, 7, 15, 5, 0, 19, 2, 12, 10]\n"
     ]
    }
   ],
   "source": [
    "import random\n",
    "\n",
    "test = list(range(20))\n",
    "random.shuffle(test)\n",
    "print(test)"
   ]
  },
  {
   "cell_type": "code",
   "execution_count": 3,
   "metadata": {},
   "outputs": [
    {
     "name": "stdout",
     "output_type": "stream",
     "text": [
      "The max number is: 19\n",
      "The index of the max number is: 16\n"
     ]
    }
   ],
   "source": [
    "m, j = max_and_subscript(test)\n",
    "print('The max number is:', m)\n",
    "print('The index of the max number is:', j)"
   ]
  }
 ],
 "metadata": {
  "kernelspec": {
   "display_name": "base",
   "language": "python",
   "name": "python3"
  },
  "language_info": {
   "codemirror_mode": {
    "name": "ipython",
    "version": 3
   },
   "file_extension": ".py",
   "mimetype": "text/x-python",
   "name": "python",
   "nbconvert_exporter": "python",
   "pygments_lexer": "ipython3",
   "version": "3.9.13"
  }
 },
 "nbformat": 4,
 "nbformat_minor": 2
}
