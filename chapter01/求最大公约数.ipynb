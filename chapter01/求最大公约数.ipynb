{
 "cells": [
  {
   "cell_type": "markdown",
   "metadata": {},
   "source": [
    "复杂度太高,从1开始遍历，从例子来看，复杂度为O(17)。"
   ]
  },
  {
   "cell_type": "code",
   "execution_count": 1,
   "metadata": {},
   "outputs": [
    {
     "name": "stdout",
     "output_type": "stream",
     "text": [
      "17\n"
     ]
    }
   ],
   "source": [
    "# 求最大公约数\n",
    "def gcd(m, n):\n",
    "    k = 1\n",
    "    while k <= m and k <= n:\n",
    "        if m % k == 0 and n % k == 0:\n",
    "            gcd = k\n",
    "        k += 1\n",
    "        \n",
    "    return gcd\n",
    "\n",
    "results = gcd(544, 119)\n",
    "print(results)"
   ]
  },
  {
   "cell_type": "markdown",
   "metadata": {},
   "source": [
    "降低复杂度，复杂度降为O(4)。"
   ]
  },
  {
   "cell_type": "code",
   "execution_count": 5,
   "metadata": {},
   "outputs": [
    {
     "name": "stdout",
     "output_type": "stream",
     "text": [
      "17\n"
     ]
    }
   ],
   "source": [
    "def new_gcd(m, n):\n",
    "    gcd = 1\n",
    "    while gcd != 0:\n",
    "        gcd = m % n\n",
    "        if gcd == 0:\n",
    "            break\n",
    "        m = n\n",
    "        n = gcd \n",
    "\n",
    "    return n\n",
    "\n",
    "results = new_gcd(544, 119)\n",
    "print(results)"
   ]
  }
 ],
 "metadata": {
  "kernelspec": {
   "display_name": "base",
   "language": "python",
   "name": "python3"
  },
  "language_info": {
   "codemirror_mode": {
    "name": "ipython",
    "version": 3
   },
   "file_extension": ".py",
   "mimetype": "text/x-python",
   "name": "python",
   "nbconvert_exporter": "python",
   "pygments_lexer": "ipython3",
   "version": "3.9.13"
  }
 },
 "nbformat": 4,
 "nbformat_minor": 2
}
